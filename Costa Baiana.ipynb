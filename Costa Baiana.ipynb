{
 "cells": [
  {
   "cell_type": "code",
   "execution_count": 6,
   "metadata": {},
   "outputs": [],
   "source": [
    "'''Tema: Estado da balneabilidade da costa baiana\n",
    "   Grupo: Lucas Ribeiro, Paulo Correia e Vitor Henrique\n",
    "   Fonte do dataset: https://brasil.io/dataset/balneabilidade-bahia/balneabilidade'''\n",
    "\n",
    "%matplotlib inline\n",
    "import pandas as pd\n",
    "import matplotlib.pyplot as plt"
   ]
  },
  {
   "cell_type": "code",
   "execution_count": 3,
   "metadata": {},
   "outputs": [],
   "source": []
  },
  {
   "cell_type": "code",
   "execution_count": 7,
   "metadata": {},
   "outputs": [],
   "source": [
    "dados = pd.read_csv('bahia.csv', encoding = 'utf-8')"
   ]
  },
  {
   "cell_type": "code",
   "execution_count": 8,
   "metadata": {},
   "outputs": [
    {
     "data": {
      "text/html": [
       "<div>\n",
       "<table border=\"1\" class=\"dataframe\">\n",
       "  <thead>\n",
       "    <tr style=\"text-align: right;\">\n",
       "      <th></th>\n",
       "      <th>id_campanha</th>\n",
       "      <th>numero_boletim</th>\n",
       "      <th>data_emissao</th>\n",
       "      <th>costa_ponto</th>\n",
       "      <th>local_da_coleta</th>\n",
       "      <th>categoria</th>\n",
       "      <th>ponto_codigo</th>\n",
       "      <th>tipo_campanha</th>\n",
       "    </tr>\n",
       "  </thead>\n",
       "  <tbody>\n",
       "    <tr>\n",
       "      <th>0</th>\n",
       "      <td>37161</td>\n",
       "      <td>12/2018</td>\n",
       "      <td>2018-03-19</td>\n",
       "      <td>BTS</td>\n",
       "      <td>Acesso pela Rua principal do povoado.</td>\n",
       "      <td>Própria</td>\n",
       "      <td>Aratuba - BTS AR 100</td>\n",
       "      <td>CAMPANHA</td>\n",
       "    </tr>\n",
       "    <tr>\n",
       "      <th>1</th>\n",
       "      <td>37161</td>\n",
       "      <td>12/2018</td>\n",
       "      <td>2018-03-19</td>\n",
       "      <td>BTS</td>\n",
       "      <td>Ao lado do Cais de Barra Grande.</td>\n",
       "      <td>Própria</td>\n",
       "      <td>Barra Grande BTS - BTS BG 100</td>\n",
       "      <td>CAMPANHA</td>\n",
       "    </tr>\n",
       "    <tr>\n",
       "      <th>2</th>\n",
       "      <td>37161</td>\n",
       "      <td>12/2018</td>\n",
       "      <td>2018-03-19</td>\n",
       "      <td>BTS</td>\n",
       "      <td>Em frente à Câmara Municipal de Madre de Deus.</td>\n",
       "      <td>Própria</td>\n",
       "      <td>Madre de Deus - BTS MD 200</td>\n",
       "      <td>CAMPANHA</td>\n",
       "    </tr>\n",
       "    <tr>\n",
       "      <th>3</th>\n",
       "      <td>37161</td>\n",
       "      <td>12/2018</td>\n",
       "      <td>2018-03-19</td>\n",
       "      <td>BTS</td>\n",
       "      <td>Em frente a Colônia de Pescadores.</td>\n",
       "      <td>Própria</td>\n",
       "      <td>Encarnação - BTS EC 100</td>\n",
       "      <td>CAMPANHA</td>\n",
       "    </tr>\n",
       "    <tr>\n",
       "      <th>4</th>\n",
       "      <td>37161</td>\n",
       "      <td>12/2018</td>\n",
       "      <td>2018-03-19</td>\n",
       "      <td>BTS</td>\n",
       "      <td>Em frente a Cruz da Gameleira.</td>\n",
       "      <td>Imprópria</td>\n",
       "      <td>Gameleira - BTS GM 100</td>\n",
       "      <td>CAMPANHA</td>\n",
       "    </tr>\n",
       "  </tbody>\n",
       "</table>\n",
       "</div>"
      ],
      "text/plain": [
       "   id_campanha numero_boletim data_emissao costa_ponto  \\\n",
       "0        37161        12/2018   2018-03-19         BTS   \n",
       "1        37161        12/2018   2018-03-19         BTS   \n",
       "2        37161        12/2018   2018-03-19         BTS   \n",
       "3        37161        12/2018   2018-03-19         BTS   \n",
       "4        37161        12/2018   2018-03-19         BTS   \n",
       "\n",
       "                                  local_da_coleta  categoria  \\\n",
       "0           Acesso pela Rua principal do povoado.    Própria   \n",
       "1                Ao lado do Cais de Barra Grande.    Própria   \n",
       "2  Em frente à Câmara Municipal de Madre de Deus.    Própria   \n",
       "3              Em frente a Colônia de Pescadores.    Própria   \n",
       "4                  Em frente a Cruz da Gameleira.  Imprópria   \n",
       "\n",
       "                    ponto_codigo tipo_campanha  \n",
       "0           Aratuba - BTS AR 100      CAMPANHA  \n",
       "1  Barra Grande BTS - BTS BG 100      CAMPANHA  \n",
       "2     Madre de Deus - BTS MD 200      CAMPANHA  \n",
       "3        Encarnação - BTS EC 100      CAMPANHA  \n",
       "4         Gameleira - BTS GM 100      CAMPANHA  "
      ]
     },
     "execution_count": 8,
     "metadata": {},
     "output_type": "execute_result"
    }
   ],
   "source": [
    "dados.head()"
   ]
  },
  {
   "cell_type": "code",
   "execution_count": 9,
   "metadata": {},
   "outputs": [
    {
     "data": {
      "text/plain": [
       "Própria         21512\n",
       "Imprópria        7020\n",
       "Indisponível     5051\n",
       "Satisfatória      181\n",
       "Muito Boa         162\n",
       "Name: categoria, dtype: int64"
      ]
     },
     "execution_count": 9,
     "metadata": {},
     "output_type": "execute_result"
    }
   ],
   "source": [
    "categoria = pd.value_counts(dados['categoria'])\n",
    "categoria"
   ]
  },
  {
   "cell_type": "code",
   "execution_count": null,
   "metadata": {},
   "outputs": [],
   "source": []
  },
  {
   "cell_type": "code",
   "execution_count": 10,
   "metadata": {},
   "outputs": [
    {
     "data": {
      "image/png": "[encoded data removed]",
      "text/plain": [
       "<matplotlib.figure.Figure at 0xad5ebccc>"
      ]
     },
     "metadata": {},
     "output_type": "display_data"
    }
   ],
   "source": [
    "plt.rcParams['figure.figsize'] = (8.7,7.7)\n",
    "\n",
    "categorias = ['Propria\\n(21512)', 'Impropria\\n(7020)', 'Indisponivel\\n(5051)', 'Satisfatoria\\n(181)']\n",
    "\n",
    "quantidade = [categoria[0],categoria[1],categoria[2],categoria[3]]\n",
    "\n",
    "bar_larg = 0.6\n",
    "\n",
    "planoX = [i + 0.2 for i, _ in enumerate(categorias)]\n",
    "\n",
    "plt.bar(planoX, quantidade, bar_larg, color='lightblue')\n",
    "\n",
    "plt.ylabel('Quantidade de praias', fontsize = 18, color='brown')\n",
    "\n",
    "plt.xlabel('Categorias', fontsize = 16, color='brown')\n",
    "\n",
    "plt.title('Melhoria no estado de\\nbalneabilidade da Costa Baiana', fontsize = 20, color = 'darkblue')\n",
    "\n",
    "plt.xticks([i + 0.5 for i, _ in enumerate(categorias)], categorias, fontsize=13)\n",
    "plt.yticks(fontsize=13)\n",
    "plt.show()"
   ]
  },
  {
   "cell_type": "code",
   "execution_count": 60,
   "metadata": {},
   "outputs": [
    {
     "ename": "NameError",
     "evalue": "name 'bar' is not defined",
     "output_type": "error",
     "traceback": [
      "\u001b[1;31m---------------------------------------------------------------------------\u001b[0m",
      "\u001b[1;31mNameError\u001b[0m                                 Traceback (most recent call last)",
      "\u001b[1;32m<ipython-input-60-e43e9ae9a953>\u001b[0m in \u001b[0;36m<module>\u001b[1;34m()\u001b[0m\n\u001b[1;32m----> 1\u001b[1;33m \u001b[0mplt\u001b[0m\u001b[1;33m.\u001b[0m\u001b[0mget_plot_commands\u001b[0m\u001b[1;33m(\u001b[0m\u001b[0mbar\u001b[0m\u001b[1;33m)\u001b[0m\u001b[1;33m\u001b[0m\u001b[0m\n\u001b[0m",
      "\u001b[1;31mNameError\u001b[0m: name 'bar' is not defined"
     ]
    }
   ],
   "source": []
  }
 ],
 "metadata": {
  "kernelspec": {
   "display_name": "Python 2",
   "language": "python",
   "name": "python2"
  },
  "language_info": {
   "codemirror_mode": {
    "name": "ipython",
    "version": 2
   },
   "file_extension": ".py",
   "mimetype": "text/x-python",
   "name": "python",
   "nbconvert_exporter": "python",
   "pygments_lexer": "ipython2",
   "version": "2.7.12"
  }
 },
 "nbformat": 4,
 "nbformat_minor": 2
}
